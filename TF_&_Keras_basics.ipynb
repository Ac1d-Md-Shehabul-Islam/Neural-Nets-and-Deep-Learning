{
  "nbformat": 4,
  "nbformat_minor": 0,
  "metadata": {
    "colab": {
      "name": "TF & Keras_basics.ipynb",
      "provenance": [],
      "collapsed_sections": []
    },
    "kernelspec": {
      "name": "python3",
      "display_name": "Python 3"
    },
    "language_info": {
      "name": "python"
    }
  },
  "cells": [
    {
      "cell_type": "code",
      "metadata": {
        "id": "YMwkw0Jbe9lP"
      },
      "source": [
        "import numpy as np\n",
        "import pandas as pd\n",
        "import seaborn as sns"
      ],
      "execution_count": null,
      "outputs": []
    },
    {
      "cell_type": "code",
      "metadata": {
        "colab": {
          "resources": {
            "http://localhost:8080/nbextensions/google.colab/files.js": {
              "data": "Ly8gQ29weXJpZ2h0IDIwMTcgR29vZ2xlIExMQwovLwovLyBMaWNlbnNlZCB1bmRlciB0aGUgQXBhY2hlIExpY2Vuc2UsIFZlcnNpb24gMi4wICh0aGUgIkxpY2Vuc2UiKTsKLy8geW91IG1heSBub3QgdXNlIHRoaXMgZmlsZSBleGNlcHQgaW4gY29tcGxpYW5jZSB3aXRoIHRoZSBMaWNlbnNlLgovLyBZb3UgbWF5IG9idGFpbiBhIGNvcHkgb2YgdGhlIExpY2Vuc2UgYXQKLy8KLy8gICAgICBodHRwOi8vd3d3LmFwYWNoZS5vcmcvbGljZW5zZXMvTElDRU5TRS0yLjAKLy8KLy8gVW5sZXNzIHJlcXVpcmVkIGJ5IGFwcGxpY2FibGUgbGF3IG9yIGFncmVlZCB0byBpbiB3cml0aW5nLCBzb2Z0d2FyZQovLyBkaXN0cmlidXRlZCB1bmRlciB0aGUgTGljZW5zZSBpcyBkaXN0cmlidXRlZCBvbiBhbiAiQVMgSVMiIEJBU0lTLAovLyBXSVRIT1VUIFdBUlJBTlRJRVMgT1IgQ09ORElUSU9OUyBPRiBBTlkgS0lORCwgZWl0aGVyIGV4cHJlc3Mgb3IgaW1wbGllZC4KLy8gU2VlIHRoZSBMaWNlbnNlIGZvciB0aGUgc3BlY2lmaWMgbGFuZ3VhZ2UgZ292ZXJuaW5nIHBlcm1pc3Npb25zIGFuZAovLyBsaW1pdGF0aW9ucyB1bmRlciB0aGUgTGljZW5zZS4KCi8qKgogKiBAZmlsZW92ZXJ2aWV3IEhlbHBlcnMgZm9yIGdvb2dsZS5jb2xhYiBQeXRob24gbW9kdWxlLgogKi8KKGZ1bmN0aW9uKHNjb3BlKSB7CmZ1bmN0aW9uIHNwYW4odGV4dCwgc3R5bGVBdHRyaWJ1dGVzID0ge30pIHsKICBjb25zdCBlbGVtZW50ID0gZG9jdW1lbnQuY3JlYXRlRWxlbWVudCgnc3BhbicpOwogIGVsZW1lbnQudGV4dENvbnRlbnQgPSB0ZXh0OwogIGZvciAoY29uc3Qga2V5IG9mIE9iamVjdC5rZXlzKHN0eWxlQXR0cmlidXRlcykpIHsKICAgIGVsZW1lbnQuc3R5bGVba2V5XSA9IHN0eWxlQXR0cmlidXRlc1trZXldOwogIH0KICByZXR1cm4gZWxlbWVudDsKfQoKLy8gTWF4IG51bWJlciBvZiBieXRlcyB3aGljaCB3aWxsIGJlIHVwbG9hZGVkIGF0IGEgdGltZS4KY29uc3QgTUFYX1BBWUxPQURfU0laRSA9IDEwMCAqIDEwMjQ7CgpmdW5jdGlvbiBfdXBsb2FkRmlsZXMoaW5wdXRJZCwgb3V0cHV0SWQpIHsKICBjb25zdCBzdGVwcyA9IHVwbG9hZEZpbGVzU3RlcChpbnB1dElkLCBvdXRwdXRJZCk7CiAgY29uc3Qgb3V0cHV0RWxlbWVudCA9IGRvY3VtZW50LmdldEVsZW1lbnRCeUlkKG91dHB1dElkKTsKICAvLyBDYWNoZSBzdGVwcyBvbiB0aGUgb3V0cHV0RWxlbWVudCB0byBtYWtlIGl0IGF2YWlsYWJsZSBmb3IgdGhlIG5leHQgY2FsbAogIC8vIHRvIHVwbG9hZEZpbGVzQ29udGludWUgZnJvbSBQeXRob24uCiAgb3V0cHV0RWxlbWVudC5zdGVwcyA9IHN0ZXBzOwoKICByZXR1cm4gX3VwbG9hZEZpbGVzQ29udGludWUob3V0cHV0SWQpOwp9CgovLyBUaGlzIGlzIHJvdWdobHkgYW4gYXN5bmMgZ2VuZXJhdG9yIChub3Qgc3VwcG9ydGVkIGluIHRoZSBicm93c2VyIHlldCksCi8vIHdoZXJlIHRoZXJlIGFyZSBtdWx0aXBsZSBhc3luY2hyb25vdXMgc3RlcHMgYW5kIHRoZSBQeXRob24gc2lkZSBpcyBnb2luZwovLyB0byBwb2xsIGZvciBjb21wbGV0aW9uIG9mIGVhY2ggc3RlcC4KLy8gVGhpcyB1c2VzIGEgUHJvbWlzZSB0byBibG9jayB0aGUgcHl0aG9uIHNpZGUgb24gY29tcGxldGlvbiBvZiBlYWNoIHN0ZXAsCi8vIHRoZW4gcGFzc2VzIHRoZSByZXN1bHQgb2YgdGhlIHByZXZpb3VzIHN0ZXAgYXMgdGhlIGlucHV0IHRvIHRoZSBuZXh0IHN0ZXAuCmZ1bmN0aW9uIF91cGxvYWRGaWxlc0NvbnRpbnVlKG91dHB1dElkKSB7CiAgY29uc3Qgb3V0cHV0RWxlbWVudCA9IGRvY3VtZW50LmdldEVsZW1lbnRCeUlkKG91dHB1dElkKTsKICBjb25zdCBzdGVwcyA9IG91dHB1dEVsZW1lbnQuc3RlcHM7CgogIGNvbnN0IG5leHQgPSBzdGVwcy5uZXh0KG91dHB1dEVsZW1lbnQubGFzdFByb21pc2VWYWx1ZSk7CiAgcmV0dXJuIFByb21pc2UucmVzb2x2ZShuZXh0LnZhbHVlLnByb21pc2UpLnRoZW4oKHZhbHVlKSA9PiB7CiAgICAvLyBDYWNoZSB0aGUgbGFzdCBwcm9taXNlIHZhbHVlIHRvIG1ha2UgaXQgYXZhaWxhYmxlIHRvIHRoZSBuZXh0CiAgICAvLyBzdGVwIG9mIHRoZSBnZW5lcmF0b3IuCiAgICBvdXRwdXRFbGVtZW50Lmxhc3RQcm9taXNlVmFsdWUgPSB2YWx1ZTsKICAgIHJldHVybiBuZXh0LnZhbHVlLnJlc3BvbnNlOwogIH0pOwp9CgovKioKICogR2VuZXJhdG9yIGZ1bmN0aW9uIHdoaWNoIGlzIGNhbGxlZCBiZXR3ZWVuIGVhY2ggYXN5bmMgc3RlcCBvZiB0aGUgdXBsb2FkCiAqIHByb2Nlc3MuCiAqIEBwYXJhbSB7c3RyaW5nfSBpbnB1dElkIEVsZW1lbnQgSUQgb2YgdGhlIGlucHV0IGZpbGUgcGlja2VyIGVsZW1lbnQuCiAqIEBwYXJhbSB7c3RyaW5nfSBvdXRwdXRJZCBFbGVtZW50IElEIG9mIHRoZSBvdXRwdXQgZGlzcGxheS4KICogQHJldHVybiB7IUl0ZXJhYmxlPCFPYmplY3Q+fSBJdGVyYWJsZSBvZiBuZXh0IHN0ZXBzLgogKi8KZnVuY3Rpb24qIHVwbG9hZEZpbGVzU3RlcChpbnB1dElkLCBvdXRwdXRJZCkgewogIGNvbnN0IGlucHV0RWxlbWVudCA9IGRvY3VtZW50LmdldEVsZW1lbnRCeUlkKGlucHV0SWQpOwogIGlucHV0RWxlbWVudC5kaXNhYmxlZCA9IGZhbHNlOwoKICBjb25zdCBvdXRwdXRFbGVtZW50ID0gZG9jdW1lbnQuZ2V0RWxlbWVudEJ5SWQob3V0cHV0SWQpOwogIG91dHB1dEVsZW1lbnQuaW5uZXJIVE1MID0gJyc7CgogIGNvbnN0IHBpY2tlZFByb21pc2UgPSBuZXcgUHJvbWlzZSgocmVzb2x2ZSkgPT4gewogICAgaW5wdXRFbGVtZW50LmFkZEV2ZW50TGlzdGVuZXIoJ2NoYW5nZScsIChlKSA9PiB7CiAgICAgIHJlc29sdmUoZS50YXJnZXQuZmlsZXMpOwogICAgfSk7CiAgfSk7CgogIGNvbnN0IGNhbmNlbCA9IGRvY3VtZW50LmNyZWF0ZUVsZW1lbnQoJ2J1dHRvbicpOwogIGlucHV0RWxlbWVudC5wYXJlbnRFbGVtZW50LmFwcGVuZENoaWxkKGNhbmNlbCk7CiAgY2FuY2VsLnRleHRDb250ZW50ID0gJ0NhbmNlbCB1cGxvYWQnOwogIGNvbnN0IGNhbmNlbFByb21pc2UgPSBuZXcgUHJvbWlzZSgocmVzb2x2ZSkgPT4gewogICAgY2FuY2VsLm9uY2xpY2sgPSAoKSA9PiB7CiAgICAgIHJlc29sdmUobnVsbCk7CiAgICB9OwogIH0pOwoKICAvLyBXYWl0IGZvciB0aGUgdXNlciB0byBwaWNrIHRoZSBmaWxlcy4KICBjb25zdCBmaWxlcyA9IHlpZWxkIHsKICAgIHByb21pc2U6IFByb21pc2UucmFjZShbcGlja2VkUHJvbWlzZSwgY2FuY2VsUHJvbWlzZV0pLAogICAgcmVzcG9uc2U6IHsKICAgICAgYWN0aW9uOiAnc3RhcnRpbmcnLAogICAgfQogIH07CgogIGNhbmNlbC5yZW1vdmUoKTsKCiAgLy8gRGlzYWJsZSB0aGUgaW5wdXQgZWxlbWVudCBzaW5jZSBmdXJ0aGVyIHBpY2tzIGFyZSBub3QgYWxsb3dlZC4KICBpbnB1dEVsZW1lbnQuZGlzYWJsZWQgPSB0cnVlOwoKICBpZiAoIWZpbGVzKSB7CiAgICByZXR1cm4gewogICAgICByZXNwb25zZTogewogICAgICAgIGFjdGlvbjogJ2NvbXBsZXRlJywKICAgICAgfQogICAgfTsKICB9CgogIGZvciAoY29uc3QgZmlsZSBvZiBmaWxlcykgewogICAgY29uc3QgbGkgPSBkb2N1bWVudC5jcmVhdGVFbGVtZW50KCdsaScpOwogICAgbGkuYXBwZW5kKHNwYW4oZmlsZS5uYW1lLCB7Zm9udFdlaWdodDogJ2JvbGQnfSkpOwogICAgbGkuYXBwZW5kKHNwYW4oCiAgICAgICAgYCgke2ZpbGUudHlwZSB8fCAnbi9hJ30pIC0gJHtmaWxlLnNpemV9IGJ5dGVzLCBgICsKICAgICAgICBgbGFzdCBtb2RpZmllZDogJHsKICAgICAgICAgICAgZmlsZS5sYXN0TW9kaWZpZWREYXRlID8gZmlsZS5sYXN0TW9kaWZpZWREYXRlLnRvTG9jYWxlRGF0ZVN0cmluZygpIDoKICAgICAgICAgICAgICAgICAgICAgICAgICAgICAgICAgICAgJ24vYSd9IC0gYCkpOwogICAgY29uc3QgcGVyY2VudCA9IHNwYW4oJzAlIGRvbmUnKTsKICAgIGxpLmFwcGVuZENoaWxkKHBlcmNlbnQpOwoKICAgIG91dHB1dEVsZW1lbnQuYXBwZW5kQ2hpbGQobGkpOwoKICAgIGNvbnN0IGZpbGVEYXRhUHJvbWlzZSA9IG5ldyBQcm9taXNlKChyZXNvbHZlKSA9PiB7CiAgICAgIGNvbnN0IHJlYWRlciA9IG5ldyBGaWxlUmVhZGVyKCk7CiAgICAgIHJlYWRlci5vbmxvYWQgPSAoZSkgPT4gewogICAgICAgIHJlc29sdmUoZS50YXJnZXQucmVzdWx0KTsKICAgICAgfTsKICAgICAgcmVhZGVyLnJlYWRBc0FycmF5QnVmZmVyKGZpbGUpOwogICAgfSk7CiAgICAvLyBXYWl0IGZvciB0aGUgZGF0YSB0byBiZSByZWFkeS4KICAgIGxldCBmaWxlRGF0YSA9IHlpZWxkIHsKICAgICAgcHJvbWlzZTogZmlsZURhdGFQcm9taXNlLAogICAgICByZXNwb25zZTogewogICAgICAgIGFjdGlvbjogJ2NvbnRpbnVlJywKICAgICAgfQogICAgfTsKCiAgICAvLyBVc2UgYSBjaHVua2VkIHNlbmRpbmcgdG8gYXZvaWQgbWVzc2FnZSBzaXplIGxpbWl0cy4gU2VlIGIvNjIxMTU2NjAuCiAgICBsZXQgcG9zaXRpb24gPSAwOwogICAgd2hpbGUgKHBvc2l0aW9uIDwgZmlsZURhdGEuYnl0ZUxlbmd0aCkgewogICAgICBjb25zdCBsZW5ndGggPSBNYXRoLm1pbihmaWxlRGF0YS5ieXRlTGVuZ3RoIC0gcG9zaXRpb24sIE1BWF9QQVlMT0FEX1NJWkUpOwogICAgICBjb25zdCBjaHVuayA9IG5ldyBVaW50OEFycmF5KGZpbGVEYXRhLCBwb3NpdGlvbiwgbGVuZ3RoKTsKICAgICAgcG9zaXRpb24gKz0gbGVuZ3RoOwoKICAgICAgY29uc3QgYmFzZTY0ID0gYnRvYShTdHJpbmcuZnJvbUNoYXJDb2RlLmFwcGx5KG51bGwsIGNodW5rKSk7CiAgICAgIHlpZWxkIHsKICAgICAgICByZXNwb25zZTogewogICAgICAgICAgYWN0aW9uOiAnYXBwZW5kJywKICAgICAgICAgIGZpbGU6IGZpbGUubmFtZSwKICAgICAgICAgIGRhdGE6IGJhc2U2NCwKICAgICAgICB9LAogICAgICB9OwogICAgICBwZXJjZW50LnRleHRDb250ZW50ID0KICAgICAgICAgIGAke01hdGgucm91bmQoKHBvc2l0aW9uIC8gZmlsZURhdGEuYnl0ZUxlbmd0aCkgKiAxMDApfSUgZG9uZWA7CiAgICB9CiAgfQoKICAvLyBBbGwgZG9uZS4KICB5aWVsZCB7CiAgICByZXNwb25zZTogewogICAgICBhY3Rpb246ICdjb21wbGV0ZScsCiAgICB9CiAgfTsKfQoKc2NvcGUuZ29vZ2xlID0gc2NvcGUuZ29vZ2xlIHx8IHt9OwpzY29wZS5nb29nbGUuY29sYWIgPSBzY29wZS5nb29nbGUuY29sYWIgfHwge307CnNjb3BlLmdvb2dsZS5jb2xhYi5fZmlsZXMgPSB7CiAgX3VwbG9hZEZpbGVzLAogIF91cGxvYWRGaWxlc0NvbnRpbnVlLAp9Owp9KShzZWxmKTsK",
              "ok": true,
              "headers": [
                [
                  "content-type",
                  "application/javascript"
                ]
              ],
              "status": 200,
              "status_text": ""
            }
          },
          "base_uri": "https://localhost:8080/",
          "height": 73
        },
        "id": "p-pq29X0jeRJ",
        "outputId": "d67e7d93-9d34-40e1-bb97-990c13e9ff33"
      },
      "source": [
        "from google.colab import files\n",
        "uploaded = files.upload()"
      ],
      "execution_count": null,
      "outputs": [
        {
          "output_type": "display_data",
          "data": {
            "text/html": [
              "\n",
              "     <input type=\"file\" id=\"files-175c8f57-a52a-4b1a-b198-f8000dd69a45\" name=\"files[]\" multiple disabled\n",
              "        style=\"border:none\" />\n",
              "     <output id=\"result-175c8f57-a52a-4b1a-b198-f8000dd69a45\">\n",
              "      Upload widget is only available when the cell has been executed in the\n",
              "      current browser session. Please rerun this cell to enable.\n",
              "      </output>\n",
              "      <script src=\"/nbextensions/google.colab/files.js\"></script> "
            ],
            "text/plain": [
              "<IPython.core.display.HTML object>"
            ]
          },
          "metadata": {
            "tags": []
          }
        },
        {
          "output_type": "stream",
          "text": [
            "Saving fake_reg.csv to fake_reg.csv\n"
          ],
          "name": "stdout"
        }
      ]
    },
    {
      "cell_type": "code",
      "metadata": {
        "id": "LVYkIXVEj80P"
      },
      "source": [
        "df = pd.read_csv('fake_reg.csv')"
      ],
      "execution_count": null,
      "outputs": []
    },
    {
      "cell_type": "code",
      "metadata": {
        "colab": {
          "base_uri": "https://localhost:8080/",
          "height": 195
        },
        "id": "7YJsjabFkFFY",
        "outputId": "3e65bfeb-de9c-4e67-9fab-953fa48f3ab8"
      },
      "source": [
        "df.head()"
      ],
      "execution_count": null,
      "outputs": [
        {
          "output_type": "execute_result",
          "data": {
            "text/html": [
              "<div>\n",
              "<style scoped>\n",
              "    .dataframe tbody tr th:only-of-type {\n",
              "        vertical-align: middle;\n",
              "    }\n",
              "\n",
              "    .dataframe tbody tr th {\n",
              "        vertical-align: top;\n",
              "    }\n",
              "\n",
              "    .dataframe thead th {\n",
              "        text-align: right;\n",
              "    }\n",
              "</style>\n",
              "<table border=\"1\" class=\"dataframe\">\n",
              "  <thead>\n",
              "    <tr style=\"text-align: right;\">\n",
              "      <th></th>\n",
              "      <th>price</th>\n",
              "      <th>feature1</th>\n",
              "      <th>feature2</th>\n",
              "    </tr>\n",
              "  </thead>\n",
              "  <tbody>\n",
              "    <tr>\n",
              "      <th>0</th>\n",
              "      <td>461.527929</td>\n",
              "      <td>999.787558</td>\n",
              "      <td>999.766096</td>\n",
              "    </tr>\n",
              "    <tr>\n",
              "      <th>1</th>\n",
              "      <td>548.130011</td>\n",
              "      <td>998.861615</td>\n",
              "      <td>1001.042403</td>\n",
              "    </tr>\n",
              "    <tr>\n",
              "      <th>2</th>\n",
              "      <td>410.297162</td>\n",
              "      <td>1000.070267</td>\n",
              "      <td>998.844015</td>\n",
              "    </tr>\n",
              "    <tr>\n",
              "      <th>3</th>\n",
              "      <td>540.382220</td>\n",
              "      <td>999.952251</td>\n",
              "      <td>1000.440940</td>\n",
              "    </tr>\n",
              "    <tr>\n",
              "      <th>4</th>\n",
              "      <td>546.024553</td>\n",
              "      <td>1000.446011</td>\n",
              "      <td>1000.338531</td>\n",
              "    </tr>\n",
              "  </tbody>\n",
              "</table>\n",
              "</div>"
            ],
            "text/plain": [
              "        price     feature1     feature2\n",
              "0  461.527929   999.787558   999.766096\n",
              "1  548.130011   998.861615  1001.042403\n",
              "2  410.297162  1000.070267   998.844015\n",
              "3  540.382220   999.952251  1000.440940\n",
              "4  546.024553  1000.446011  1000.338531"
            ]
          },
          "metadata": {
            "tags": []
          },
          "execution_count": 6
        }
      ]
    },
    {
      "cell_type": "code",
      "metadata": {
        "colab": {
          "base_uri": "https://localhost:8080/",
          "height": 567
        },
        "id": "Zy6e8k7ckF4v",
        "outputId": "e4ca4df8-e45c-4788-e991-c05d81d54dd3"
      },
      "source": [
        "sns.pairplot(df)"
      ],
      "execution_count": null,
      "outputs": [
        {
          "output_type": "execute_result",
          "data": {
            "text/plain": [
              "<seaborn.axisgrid.PairGrid at 0x7fd199617990>"
            ]
          },
          "metadata": {
            "tags": []
          },
          "execution_count": 7
        },
        {
          "output_type": "display_data",
          "data": {
            "image/png": "[encoded data removed]",
            "text/plain": [
              "<Figure size 540x540 with 12 Axes>"
            ]
          },
          "metadata": {
            "tags": [],
            "needs_background": "light"
          }
        }
      ]
    },
    {
      "cell_type": "code",
      "metadata": {
        "id": "rlF6-rSokVPX"
      },
      "source": [
        "from sklearn.model_selection import train_test_split"
      ],
      "execution_count": null,
      "outputs": []
    },
    {
      "cell_type": "code",
      "metadata": {
        "id": "vIYzyf7Qks10"
      },
      "source": [
        "X = df[['feature1','feature2']].values # we have to numpy arrays instead of pandas dataframe/series for TF to work\n",
        "y = df['price'].values"
      ],
      "execution_count": null,
      "outputs": []
    },
    {
      "cell_type": "code",
      "metadata": {
        "id": "CyB0_1v3kkWv"
      },
      "source": [
        "X_train, X_test, y_train, y_test = train_test_split(X, y, test_size=0.3, random_state=42)"
      ],
      "execution_count": null,
      "outputs": []
    },
    {
      "cell_type": "code",
      "metadata": {
        "colab": {
          "base_uri": "https://localhost:8080/"
        },
        "id": "-GTCyJGUlWX0",
        "outputId": "70477cb5-0f42-4861-8f0e-ee965afd2d9d"
      },
      "source": [
        "X.shape"
      ],
      "execution_count": null,
      "outputs": [
        {
          "output_type": "execute_result",
          "data": {
            "text/plain": [
              "(1000, 2)"
            ]
          },
          "metadata": {
            "tags": []
          },
          "execution_count": 19
        }
      ]
    },
    {
      "cell_type": "code",
      "metadata": {
        "colab": {
          "base_uri": "https://localhost:8080/"
        },
        "id": "a3u4OmJIklPg",
        "outputId": "4438673d-6b6f-4647-c986-5407e3ae577d"
      },
      "source": [
        "X_train.shape"
      ],
      "execution_count": null,
      "outputs": [
        {
          "output_type": "execute_result",
          "data": {
            "text/plain": [
              "(700, 2)"
            ]
          },
          "metadata": {
            "tags": []
          },
          "execution_count": 15
        }
      ]
    },
    {
      "cell_type": "code",
      "metadata": {
        "colab": {
          "base_uri": "https://localhost:8080/"
        },
        "id": "Qw4HQ014lTCP",
        "outputId": "702fe9fd-ca86-4162-ae28-9d2066634a66"
      },
      "source": [
        "X_test.shape"
      ],
      "execution_count": null,
      "outputs": [
        {
          "output_type": "execute_result",
          "data": {
            "text/plain": [
              "(300, 2)"
            ]
          },
          "metadata": {
            "tags": []
          },
          "execution_count": 16
        }
      ]
    },
    {
      "cell_type": "code",
      "metadata": {
        "id": "_N4zPWw5lUVf"
      },
      "source": [
        "from sklearn.preprocessing import MinMaxScaler"
      ],
      "execution_count": null,
      "outputs": []
    },
    {
      "cell_type": "code",
      "metadata": {
        "id": "yMqE8yfClnkm"
      },
      "source": [
        "scaler = MinMaxScaler()"
      ],
      "execution_count": null,
      "outputs": []
    },
    {
      "cell_type": "code",
      "metadata": {
        "colab": {
          "base_uri": "https://localhost:8080/"
        },
        "id": "ftqG3i30l0Zf",
        "outputId": "d5b14aca-434f-49aa-cc43-e9c809f2c1ef"
      },
      "source": [
        "scaler.fit(X_train) # calculates the parameter it needs to perform the scaling, STD,mean,max"
      ],
      "execution_count": null,
      "outputs": [
        {
          "output_type": "execute_result",
          "data": {
            "text/plain": [
              "MinMaxScaler(copy=True, feature_range=(0, 1))"
            ]
          },
          "metadata": {
            "tags": []
          },
          "execution_count": 22
        }
      ]
    },
    {
      "cell_type": "code",
      "metadata": {
        "id": "UPDPETbPl-yW"
      },
      "source": [
        "X_train = scaler.transform(X_train)"
      ],
      "execution_count": null,
      "outputs": []
    },
    {
      "cell_type": "code",
      "metadata": {
        "id": "3e8e_2MFmNzP"
      },
      "source": [
        "X_test = scaler.transform(X_test)"
      ],
      "execution_count": null,
      "outputs": []
    },
    {
      "cell_type": "code",
      "metadata": {
        "colab": {
          "base_uri": "https://localhost:8080/"
        },
        "id": "ImnRRlg1mRJn",
        "outputId": "f29b2256-37f7-4949-f38d-2eeb73a326b6"
      },
      "source": [
        "X_train"
      ],
      "execution_count": null,
      "outputs": [
        {
          "output_type": "execute_result",
          "data": {
            "text/plain": [
              "array([[0.74046017, 0.32583248],\n",
              "       [0.43166001, 0.2555088 ],\n",
              "       [0.18468554, 0.70500664],\n",
              "       ...,\n",
              "       [0.54913363, 0.79933822],\n",
              "       [0.2834197 , 0.38818708],\n",
              "       [0.56282703, 0.42371827]])"
            ]
          },
          "metadata": {
            "tags": []
          },
          "execution_count": 25
        }
      ]
    },
    {
      "cell_type": "code",
      "metadata": {
        "colab": {
          "base_uri": "https://localhost:8080/"
        },
        "id": "le7B7GSwmSpP",
        "outputId": "541dd1d7-77ce-473a-d6b5-7e69ecbbe8a1"
      },
      "source": [
        "X_train.max()"
      ],
      "execution_count": null,
      "outputs": [
        {
          "output_type": "execute_result",
          "data": {
            "text/plain": [
              "1.0"
            ]
          },
          "metadata": {
            "tags": []
          },
          "execution_count": 27
        }
      ]
    },
    {
      "cell_type": "code",
      "metadata": {
        "id": "YCJwPWMvmTso"
      },
      "source": [
        "from tensorflow.keras.models import Sequential\n",
        "from tensorflow.keras.layers import Dense"
      ],
      "execution_count": null,
      "outputs": []
    },
    {
      "cell_type": "code",
      "metadata": {
        "id": "rrlRFYCdrD-g"
      },
      "source": [
        "# model = Sequential([Dense(4,activation='relu'),\n",
        "#                     Dense(4,activation='relu'),\n",
        "#                     Dense(1)])"
      ],
      "execution_count": null,
      "outputs": []
    },
    {
      "cell_type": "code",
      "metadata": {
        "id": "JBLF3oFXrvuo"
      },
      "source": [
        "model = Sequential()\n",
        "model.add(Dense(4,activation='relu'))\n",
        "model.add(Dense(4,activation='relu'))\n",
        "model.add(Dense(4,activation='relu'))\n",
        "model.add(Dense(1))"
      ],
      "execution_count": null,
      "outputs": []
    },
    {
      "cell_type": "code",
      "metadata": {
        "id": "jwIm6c8pr0ew"
      },
      "source": [
        "model.compile(optimizer='rmsprop',\n",
        "              loss='mse')"
      ],
      "execution_count": null,
      "outputs": []
    },
    {
      "cell_type": "code",
      "metadata": {
        "colab": {
          "base_uri": "https://localhost:8080/"
        },
        "id": "OcC0tal4s1Ow",
        "outputId": "e3485c58-ecc5-441b-cd75-583d8f391886"
      },
      "source": [
        "model.fit(x=X_train,\n",
        "          y=y_train,\n",
        "          epochs=250,\n",
        "          verbose=1)"
      ],
      "execution_count": null,
      "outputs": [
        {
          "output_type": "stream",
          "text": [
            "Epoch 1/250\n",
            "22/22 [==============================] - 0s 1ms/step - loss: 474.6208\n",
            "Epoch 2/250\n",
            "22/22 [==============================] - 0s 1ms/step - loss: 462.4075\n",
            "Epoch 3/250\n",
            "22/22 [==============================] - 0s 1ms/step - loss: 450.5148\n",
            "Epoch 4/250\n",
            "22/22 [==============================] - 0s 1ms/step - loss: 438.9506\n",
            "Epoch 5/250\n",
            "22/22 [==============================] - 0s 1ms/step - loss: 427.0442\n",
            "Epoch 6/250\n",
            "22/22 [==============================] - 0s 1ms/step - loss: 413.1042\n",
            "Epoch 7/250\n",
            "22/22 [==============================] - 0s 1ms/step - loss: 402.3237\n",
            "Epoch 8/250\n",
            "22/22 [==============================] - 0s 1ms/step - loss: 390.9516\n",
            "Epoch 9/250\n",
            "22/22 [==============================] - 0s 1ms/step - loss: 380.4106\n",
            "Epoch 10/250\n",
            "22/22 [==============================] - 0s 1ms/step - loss: 368.6553\n",
            "Epoch 11/250\n",
            "22/22 [==============================] - 0s 1ms/step - loss: 356.7083\n",
            "Epoch 12/250\n",
            "22/22 [==============================] - 0s 1ms/step - loss: 345.4581\n",
            "Epoch 13/250\n",
            "22/22 [==============================] - 0s 1ms/step - loss: 332.8537\n",
            "Epoch 14/250\n",
            "22/22 [==============================] - 0s 1ms/step - loss: 322.1371\n",
            "Epoch 15/250\n",
            "22/22 [==============================] - 0s 1ms/step - loss: 311.1491\n",
            "Epoch 16/250\n",
            "22/22 [==============================] - 0s 1ms/step - loss: 298.7435\n",
            "Epoch 17/250\n",
            "22/22 [==============================] - 0s 1ms/step - loss: 288.4785\n",
            "Epoch 18/250\n",
            "22/22 [==============================] - 0s 1ms/step - loss: 277.4637\n",
            "Epoch 19/250\n",
            "22/22 [==============================] - 0s 1ms/step - loss: 266.4987\n",
            "Epoch 20/250\n",
            "22/22 [==============================] - 0s 2ms/step - loss: 256.2165\n",
            "Epoch 21/250\n",
            "22/22 [==============================] - 0s 1ms/step - loss: 246.5022\n",
            "Epoch 22/250\n",
            "22/22 [==============================] - 0s 1ms/step - loss: 236.6886\n",
            "Epoch 23/250\n",
            "22/22 [==============================] - 0s 1ms/step - loss: 227.6231\n",
            "Epoch 24/250\n",
            "22/22 [==============================] - 0s 1ms/step - loss: 218.7616\n",
            "Epoch 25/250\n",
            "22/22 [==============================] - 0s 1ms/step - loss: 210.5373\n",
            "Epoch 26/250\n",
            "22/22 [==============================] - 0s 2ms/step - loss: 201.4252\n",
            "Epoch 27/250\n",
            "22/22 [==============================] - 0s 2ms/step - loss: 192.7347\n",
            "Epoch 28/250\n",
            "22/22 [==============================] - 0s 1ms/step - loss: 186.0202\n",
            "Epoch 29/250\n",
            "22/22 [==============================] - 0s 1ms/step - loss: 177.6187\n",
            "Epoch 30/250\n",
            "22/22 [==============================] - 0s 2ms/step - loss: 168.4452\n",
            "Epoch 31/250\n",
            "22/22 [==============================] - 0s 1ms/step - loss: 160.8026\n",
            "Epoch 32/250\n",
            "22/22 [==============================] - 0s 3ms/step - loss: 152.9690\n",
            "Epoch 33/250\n",
            "22/22 [==============================] - 0s 1ms/step - loss: 145.7874\n",
            "Epoch 34/250\n",
            "22/22 [==============================] - 0s 1ms/step - loss: 139.1896\n",
            "Epoch 35/250\n",
            "22/22 [==============================] - 0s 1ms/step - loss: 132.4830\n",
            "Epoch 36/250\n",
            "22/22 [==============================] - 0s 1ms/step - loss: 125.7182\n",
            "Epoch 37/250\n",
            "22/22 [==============================] - 0s 1ms/step - loss: 119.5018\n",
            "Epoch 38/250\n",
            "22/22 [==============================] - 0s 1ms/step - loss: 114.2053\n",
            "Epoch 39/250\n",
            "22/22 [==============================] - 0s 2ms/step - loss: 108.5285\n",
            "Epoch 40/250\n",
            "22/22 [==============================] - 0s 1ms/step - loss: 103.6964\n",
            "Epoch 41/250\n",
            "22/22 [==============================] - 0s 1ms/step - loss: 98.2656\n",
            "Epoch 42/250\n",
            "22/22 [==============================] - 0s 1ms/step - loss: 93.0199\n",
            "Epoch 43/250\n",
            "22/22 [==============================] - 0s 1ms/step - loss: 87.8870\n",
            "Epoch 44/250\n",
            "22/22 [==============================] - 0s 1ms/step - loss: 83.3936\n",
            "Epoch 45/250\n",
            "22/22 [==============================] - 0s 1ms/step - loss: 78.8665\n",
            "Epoch 46/250\n",
            "22/22 [==============================] - 0s 2ms/step - loss: 74.9654\n",
            "Epoch 47/250\n",
            "22/22 [==============================] - 0s 1ms/step - loss: 71.2948\n",
            "Epoch 48/250\n",
            "22/22 [==============================] - 0s 1ms/step - loss: 67.7756\n",
            "Epoch 49/250\n",
            "22/22 [==============================] - 0s 1ms/step - loss: 64.3519\n",
            "Epoch 50/250\n",
            "22/22 [==============================] - 0s 2ms/step - loss: 61.0744\n",
            "Epoch 51/250\n",
            "22/22 [==============================] - 0s 2ms/step - loss: 58.2868\n",
            "Epoch 52/250\n",
            "22/22 [==============================] - 0s 1ms/step - loss: 55.2653\n",
            "Epoch 53/250\n",
            "22/22 [==============================] - 0s 1ms/step - loss: 52.2623\n",
            "Epoch 54/250\n",
            "22/22 [==============================] - 0s 1ms/step - loss: 50.3370\n",
            "Epoch 55/250\n",
            "22/22 [==============================] - 0s 1ms/step - loss: 47.9778\n",
            "Epoch 56/250\n",
            "22/22 [==============================] - 0s 1ms/step - loss: 45.9914\n",
            "Epoch 57/250\n",
            "22/22 [==============================] - 0s 1ms/step - loss: 43.8422\n",
            "Epoch 58/250\n",
            "22/22 [==============================] - 0s 2ms/step - loss: 42.0649\n",
            "Epoch 59/250\n",
            "22/22 [==============================] - 0s 2ms/step - loss: 40.1246\n",
            "Epoch 60/250\n",
            "22/22 [==============================] - 0s 1ms/step - loss: 38.5902\n",
            "Epoch 61/250\n",
            "22/22 [==============================] - 0s 1ms/step - loss: 37.1544\n",
            "Epoch 62/250\n",
            "22/22 [==============================] - 0s 2ms/step - loss: 35.5247\n",
            "Epoch 63/250\n",
            "22/22 [==============================] - 0s 2ms/step - loss: 34.4386\n",
            "Epoch 64/250\n",
            "22/22 [==============================] - 0s 2ms/step - loss: 33.4663\n",
            "Epoch 65/250\n",
            "22/22 [==============================] - 0s 1ms/step - loss: 32.1763\n",
            "Epoch 66/250\n",
            "22/22 [==============================] - 0s 2ms/step - loss: 31.4140\n",
            "Epoch 67/250\n",
            "22/22 [==============================] - 0s 1ms/step - loss: 30.1709\n",
            "Epoch 68/250\n",
            "22/22 [==============================] - 0s 1ms/step - loss: 29.8141\n",
            "Epoch 69/250\n",
            "22/22 [==============================] - 0s 2ms/step - loss: 29.1156\n",
            "Epoch 70/250\n",
            "22/22 [==============================] - 0s 2ms/step - loss: 28.4815\n",
            "Epoch 71/250\n",
            "22/22 [==============================] - 0s 2ms/step - loss: 27.7464\n",
            "Epoch 72/250\n",
            "22/22 [==============================] - 0s 1ms/step - loss: 27.3480\n",
            "Epoch 73/250\n",
            "22/22 [==============================] - 0s 2ms/step - loss: 27.0775\n",
            "Epoch 74/250\n",
            "22/22 [==============================] - 0s 1ms/step - loss: 26.6884\n",
            "Epoch 75/250\n",
            "22/22 [==============================] - 0s 1ms/step - loss: 26.3948\n",
            "Epoch 76/250\n",
            "22/22 [==============================] - 0s 1ms/step - loss: 26.1124\n",
            "Epoch 77/250\n",
            "22/22 [==============================] - 0s 2ms/step - loss: 25.9597\n",
            "Epoch 78/250\n",
            "22/22 [==============================] - 0s 1ms/step - loss: 25.6092\n",
            "Epoch 79/250\n",
            "22/22 [==============================] - 0s 1ms/step - loss: 25.2348\n",
            "Epoch 80/250\n",
            "22/22 [==============================] - 0s 1ms/step - loss: 25.2963\n",
            "Epoch 81/250\n",
            "22/22 [==============================] - 0s 1ms/step - loss: 25.0628\n",
            "Epoch 82/250\n",
            "22/22 [==============================] - 0s 1ms/step - loss: 25.0300\n",
            "Epoch 83/250\n",
            "22/22 [==============================] - 0s 1ms/step - loss: 24.9271\n",
            "Epoch 84/250\n",
            "22/22 [==============================] - 0s 1ms/step - loss: 24.8075\n",
            "Epoch 85/250\n",
            "22/22 [==============================] - 0s 1ms/step - loss: 24.8176\n",
            "Epoch 86/250\n",
            "22/22 [==============================] - 0s 1ms/step - loss: 24.6396\n",
            "Epoch 87/250\n",
            "22/22 [==============================] - 0s 1ms/step - loss: 24.3694\n",
            "Epoch 88/250\n",
            "22/22 [==============================] - 0s 1ms/step - loss: 24.5414\n",
            "Epoch 89/250\n",
            "22/22 [==============================] - 0s 1ms/step - loss: 24.2992\n",
            "Epoch 90/250\n",
            "22/22 [==============================] - 0s 2ms/step - loss: 24.1684\n",
            "Epoch 91/250\n",
            "22/22 [==============================] - 0s 2ms/step - loss: 24.5893\n",
            "Epoch 92/250\n",
            "22/22 [==============================] - 0s 1ms/step - loss: 24.2869\n",
            "Epoch 93/250\n",
            "22/22 [==============================] - 0s 1ms/step - loss: 24.2451\n",
            "Epoch 94/250\n",
            "22/22 [==============================] - 0s 1ms/step - loss: 24.2348\n",
            "Epoch 95/250\n",
            "22/22 [==============================] - 0s 1ms/step - loss: 24.0573\n",
            "Epoch 96/250\n",
            "22/22 [==============================] - 0s 1ms/step - loss: 24.1659\n",
            "Epoch 97/250\n",
            "22/22 [==============================] - 0s 2ms/step - loss: 23.9402\n",
            "Epoch 98/250\n",
            "22/22 [==============================] - 0s 2ms/step - loss: 24.1586\n",
            "Epoch 99/250\n",
            "22/22 [==============================] - 0s 2ms/step - loss: 23.9706\n",
            "Epoch 100/250\n",
            "22/22 [==============================] - 0s 1ms/step - loss: 24.1191\n",
            "Epoch 101/250\n",
            "22/22 [==============================] - 0s 1ms/step - loss: 23.9462\n",
            "Epoch 102/250\n",
            "22/22 [==============================] - 0s 1ms/step - loss: 24.1883\n",
            "Epoch 103/250\n",
            "22/22 [==============================] - 0s 1ms/step - loss: 24.1398\n",
            "Epoch 104/250\n",
            "22/22 [==============================] - 0s 1ms/step - loss: 23.8984\n",
            "Epoch 105/250\n",
            "22/22 [==============================] - 0s 1ms/step - loss: 24.2583\n",
            "Epoch 106/250\n",
            "22/22 [==============================] - 0s 1ms/step - loss: 24.0806\n",
            "Epoch 107/250\n",
            "22/22 [==============================] - 0s 1ms/step - loss: 24.1704\n",
            "Epoch 108/250\n",
            "22/22 [==============================] - 0s 1ms/step - loss: 23.9416\n",
            "Epoch 109/250\n",
            "22/22 [==============================] - 0s 2ms/step - loss: 24.0483\n",
            "Epoch 110/250\n",
            "22/22 [==============================] - 0s 2ms/step - loss: 24.3815\n",
            "Epoch 111/250\n",
            "22/22 [==============================] - 0s 2ms/step - loss: 23.7708\n",
            "Epoch 112/250\n",
            "22/22 [==============================] - 0s 2ms/step - loss: 24.2367\n",
            "Epoch 113/250\n",
            "22/22 [==============================] - 0s 2ms/step - loss: 24.1647\n",
            "Epoch 114/250\n",
            "22/22 [==============================] - 0s 1ms/step - loss: 24.2947\n",
            "Epoch 115/250\n",
            "22/22 [==============================] - 0s 1ms/step - loss: 24.1626\n",
            "Epoch 116/250\n",
            "22/22 [==============================] - 0s 2ms/step - loss: 24.0207\n",
            "Epoch 117/250\n",
            "22/22 [==============================] - 0s 1ms/step - loss: 23.9831\n",
            "Epoch 118/250\n",
            "22/22 [==============================] - 0s 1ms/step - loss: 24.0834\n",
            "Epoch 119/250\n",
            "22/22 [==============================] - 0s 1ms/step - loss: 24.1678\n",
            "Epoch 120/250\n",
            "22/22 [==============================] - 0s 2ms/step - loss: 24.1247\n",
            "Epoch 121/250\n",
            "22/22 [==============================] - 0s 1ms/step - loss: 24.1288\n",
            "Epoch 122/250\n",
            "22/22 [==============================] - 0s 2ms/step - loss: 23.9067\n",
            "Epoch 123/250\n",
            "22/22 [==============================] - 0s 1ms/step - loss: 24.0345\n",
            "Epoch 124/250\n",
            "22/22 [==============================] - 0s 2ms/step - loss: 24.2379\n",
            "Epoch 125/250\n",
            "22/22 [==============================] - 0s 1ms/step - loss: 24.1817\n",
            "Epoch 126/250\n",
            "22/22 [==============================] - 0s 2ms/step - loss: 24.2930\n",
            "Epoch 127/250\n",
            "22/22 [==============================] - 0s 2ms/step - loss: 23.8432\n",
            "Epoch 128/250\n",
            "22/22 [==============================] - 0s 1ms/step - loss: 24.1238\n",
            "Epoch 129/250\n",
            "22/22 [==============================] - 0s 2ms/step - loss: 24.1156\n",
            "Epoch 130/250\n",
            "22/22 [==============================] - 0s 1ms/step - loss: 24.2326\n",
            "Epoch 131/250\n",
            "22/22 [==============================] - 0s 1ms/step - loss: 24.3111\n",
            "Epoch 132/250\n",
            "22/22 [==============================] - 0s 1ms/step - loss: 24.0063\n",
            "Epoch 133/250\n",
            "22/22 [==============================] - 0s 1ms/step - loss: 24.0105\n",
            "Epoch 134/250\n",
            "22/22 [==============================] - 0s 1ms/step - loss: 23.8962\n",
            "Epoch 135/250\n",
            "22/22 [==============================] - 0s 1ms/step - loss: 23.9958\n",
            "Epoch 136/250\n",
            "22/22 [==============================] - 0s 1ms/step - loss: 24.2077\n",
            "Epoch 137/250\n",
            "22/22 [==============================] - 0s 1ms/step - loss: 24.1681\n",
            "Epoch 138/250\n",
            "22/22 [==============================] - 0s 1ms/step - loss: 23.8943\n",
            "Epoch 139/250\n",
            "22/22 [==============================] - 0s 1ms/step - loss: 24.0525\n",
            "Epoch 140/250\n",
            "22/22 [==============================] - 0s 1ms/step - loss: 24.0721\n",
            "Epoch 141/250\n",
            "22/22 [==============================] - 0s 1ms/step - loss: 24.2482\n",
            "Epoch 142/250\n",
            "22/22 [==============================] - 0s 1ms/step - loss: 24.0404\n",
            "Epoch 143/250\n",
            "22/22 [==============================] - 0s 1ms/step - loss: 24.0588\n",
            "Epoch 144/250\n",
            "22/22 [==============================] - 0s 1ms/step - loss: 24.0215\n",
            "Epoch 145/250\n",
            "22/22 [==============================] - 0s 1ms/step - loss: 24.0781\n",
            "Epoch 146/250\n",
            "22/22 [==============================] - 0s 2ms/step - loss: 24.3066\n",
            "Epoch 147/250\n",
            "22/22 [==============================] - 0s 1ms/step - loss: 24.0423\n",
            "Epoch 148/250\n",
            "22/22 [==============================] - 0s 2ms/step - loss: 24.1882\n",
            "Epoch 149/250\n",
            "22/22 [==============================] - 0s 2ms/step - loss: 24.2054\n",
            "Epoch 150/250\n",
            "22/22 [==============================] - 0s 1ms/step - loss: 24.1255\n",
            "Epoch 151/250\n",
            "22/22 [==============================] - 0s 2ms/step - loss: 24.2044\n",
            "Epoch 152/250\n",
            "22/22 [==============================] - 0s 1ms/step - loss: 24.0883\n",
            "Epoch 153/250\n",
            "22/22 [==============================] - 0s 1ms/step - loss: 23.9202\n",
            "Epoch 154/250\n",
            "22/22 [==============================] - 0s 2ms/step - loss: 24.1082\n",
            "Epoch 155/250\n",
            "22/22 [==============================] - 0s 2ms/step - loss: 24.1183\n",
            "Epoch 156/250\n",
            "22/22 [==============================] - 0s 1ms/step - loss: 24.1637\n",
            "Epoch 157/250\n",
            "22/22 [==============================] - 0s 1ms/step - loss: 24.0657\n",
            "Epoch 158/250\n",
            "22/22 [==============================] - 0s 1ms/step - loss: 23.9339\n",
            "Epoch 159/250\n",
            "22/22 [==============================] - 0s 2ms/step - loss: 24.2890\n",
            "Epoch 160/250\n",
            "22/22 [==============================] - 0s 2ms/step - loss: 24.0601\n",
            "Epoch 161/250\n",
            "22/22 [==============================] - 0s 1ms/step - loss: 24.2157\n",
            "Epoch 162/250\n",
            "22/22 [==============================] - 0s 2ms/step - loss: 24.2369\n",
            "Epoch 163/250\n",
            "22/22 [==============================] - 0s 1ms/step - loss: 23.9732\n",
            "Epoch 164/250\n",
            "22/22 [==============================] - 0s 1ms/step - loss: 23.9975\n",
            "Epoch 165/250\n",
            "22/22 [==============================] - 0s 1ms/step - loss: 24.0565\n",
            "Epoch 166/250\n",
            "22/22 [==============================] - 0s 1ms/step - loss: 24.1697\n",
            "Epoch 167/250\n",
            "22/22 [==============================] - 0s 2ms/step - loss: 24.0857\n",
            "Epoch 168/250\n",
            "22/22 [==============================] - 0s 2ms/step - loss: 24.2077\n",
            "Epoch 169/250\n",
            "22/22 [==============================] - 0s 1ms/step - loss: 24.0594\n",
            "Epoch 170/250\n",
            "22/22 [==============================] - 0s 2ms/step - loss: 23.8326\n",
            "Epoch 171/250\n",
            "22/22 [==============================] - 0s 2ms/step - loss: 24.4070\n",
            "Epoch 172/250\n",
            "22/22 [==============================] - 0s 2ms/step - loss: 24.1084\n",
            "Epoch 173/250\n",
            "22/22 [==============================] - 0s 2ms/step - loss: 24.0198\n",
            "Epoch 174/250\n",
            "22/22 [==============================] - 0s 2ms/step - loss: 23.9350\n",
            "Epoch 175/250\n",
            "22/22 [==============================] - 0s 1ms/step - loss: 24.1565\n",
            "Epoch 176/250\n",
            "22/22 [==============================] - 0s 1ms/step - loss: 23.8961\n",
            "Epoch 177/250\n",
            "22/22 [==============================] - 0s 1ms/step - loss: 23.9465\n",
            "Epoch 178/250\n",
            "22/22 [==============================] - 0s 1ms/step - loss: 24.0493\n",
            "Epoch 179/250\n",
            "22/22 [==============================] - 0s 2ms/step - loss: 24.2924\n",
            "Epoch 180/250\n",
            "22/22 [==============================] - 0s 1ms/step - loss: 24.0478\n",
            "Epoch 181/250\n",
            "22/22 [==============================] - 0s 1ms/step - loss: 23.9831\n",
            "Epoch 182/250\n",
            "22/22 [==============================] - 0s 1ms/step - loss: 24.2078\n",
            "Epoch 183/250\n",
            "22/22 [==============================] - 0s 1ms/step - loss: 24.0695\n",
            "Epoch 184/250\n",
            "22/22 [==============================] - 0s 2ms/step - loss: 23.9280\n",
            "Epoch 185/250\n",
            "22/22 [==============================] - 0s 2ms/step - loss: 23.9362\n",
            "Epoch 186/250\n",
            "22/22 [==============================] - 0s 1ms/step - loss: 23.9745\n",
            "Epoch 187/250\n",
            "22/22 [==============================] - 0s 2ms/step - loss: 24.1051\n",
            "Epoch 188/250\n",
            "22/22 [==============================] - 0s 2ms/step - loss: 23.9655\n",
            "Epoch 189/250\n",
            "22/22 [==============================] - 0s 1ms/step - loss: 24.3467\n",
            "Epoch 190/250\n",
            "22/22 [==============================] - 0s 2ms/step - loss: 24.1098\n",
            "Epoch 191/250\n",
            "22/22 [==============================] - 0s 2ms/step - loss: 23.9194\n",
            "Epoch 192/250\n",
            "22/22 [==============================] - 0s 1ms/step - loss: 23.9472\n",
            "Epoch 193/250\n",
            "22/22 [==============================] - 0s 2ms/step - loss: 24.1188\n",
            "Epoch 194/250\n",
            "22/22 [==============================] - 0s 2ms/step - loss: 24.2782\n",
            "Epoch 195/250\n",
            "22/22 [==============================] - 0s 2ms/step - loss: 23.8145\n",
            "Epoch 196/250\n",
            "22/22 [==============================] - 0s 2ms/step - loss: 24.0486\n",
            "Epoch 197/250\n",
            "22/22 [==============================] - 0s 1ms/step - loss: 23.8858\n",
            "Epoch 198/250\n",
            "22/22 [==============================] - 0s 2ms/step - loss: 23.9899\n",
            "Epoch 199/250\n",
            "22/22 [==============================] - 0s 1ms/step - loss: 24.0397\n",
            "Epoch 200/250\n",
            "22/22 [==============================] - 0s 1ms/step - loss: 23.8888\n",
            "Epoch 201/250\n",
            "22/22 [==============================] - 0s 1ms/step - loss: 24.1707\n",
            "Epoch 202/250\n",
            "22/22 [==============================] - 0s 1ms/step - loss: 24.0602\n",
            "Epoch 203/250\n",
            "22/22 [==============================] - 0s 1ms/step - loss: 24.1056\n",
            "Epoch 204/250\n",
            "22/22 [==============================] - 0s 1ms/step - loss: 24.0598\n",
            "Epoch 205/250\n",
            "22/22 [==============================] - 0s 2ms/step - loss: 24.0574\n",
            "Epoch 206/250\n",
            "22/22 [==============================] - 0s 2ms/step - loss: 24.0125\n",
            "Epoch 207/250\n",
            "22/22 [==============================] - 0s 1ms/step - loss: 24.1211\n",
            "Epoch 208/250\n",
            "22/22 [==============================] - 0s 2ms/step - loss: 23.9850\n",
            "Epoch 209/250\n",
            "22/22 [==============================] - 0s 1ms/step - loss: 24.0895\n",
            "Epoch 210/250\n",
            "22/22 [==============================] - 0s 2ms/step - loss: 24.0501\n",
            "Epoch 211/250\n",
            "22/22 [==============================] - 0s 1ms/step - loss: 23.9479\n",
            "Epoch 212/250\n",
            "22/22 [==============================] - 0s 2ms/step - loss: 24.1232\n",
            "Epoch 213/250\n",
            "22/22 [==============================] - 0s 2ms/step - loss: 23.7568\n",
            "Epoch 214/250\n",
            "22/22 [==============================] - 0s 1ms/step - loss: 24.1393\n",
            "Epoch 215/250\n",
            "22/22 [==============================] - 0s 1ms/step - loss: 24.3867\n",
            "Epoch 216/250\n",
            "22/22 [==============================] - 0s 1ms/step - loss: 23.9341\n",
            "Epoch 217/250\n",
            "22/22 [==============================] - 0s 1ms/step - loss: 24.2163\n",
            "Epoch 218/250\n",
            "22/22 [==============================] - 0s 1ms/step - loss: 24.2000\n",
            "Epoch 219/250\n",
            "22/22 [==============================] - 0s 2ms/step - loss: 24.1021\n",
            "Epoch 220/250\n",
            "22/22 [==============================] - 0s 2ms/step - loss: 24.0586\n",
            "Epoch 221/250\n",
            "22/22 [==============================] - 0s 1ms/step - loss: 23.9471\n",
            "Epoch 222/250\n",
            "22/22 [==============================] - 0s 2ms/step - loss: 24.0709\n",
            "Epoch 223/250\n",
            "22/22 [==============================] - 0s 1ms/step - loss: 24.1845\n",
            "Epoch 224/250\n",
            "22/22 [==============================] - 0s 1ms/step - loss: 24.0527\n",
            "Epoch 225/250\n",
            "22/22 [==============================] - 0s 1ms/step - loss: 23.9459\n",
            "Epoch 226/250\n",
            "22/22 [==============================] - 0s 2ms/step - loss: 24.0979\n",
            "Epoch 227/250\n",
            "22/22 [==============================] - 0s 1ms/step - loss: 24.2025\n",
            "Epoch 228/250\n",
            "22/22 [==============================] - 0s 2ms/step - loss: 24.1101\n",
            "Epoch 229/250\n",
            "22/22 [==============================] - 0s 1ms/step - loss: 24.3728\n",
            "Epoch 230/250\n",
            "22/22 [==============================] - 0s 1ms/step - loss: 23.9794\n",
            "Epoch 231/250\n",
            "22/22 [==============================] - 0s 2ms/step - loss: 24.1013\n",
            "Epoch 232/250\n",
            "22/22 [==============================] - 0s 1ms/step - loss: 23.9659\n",
            "Epoch 233/250\n",
            "22/22 [==============================] - 0s 1ms/step - loss: 24.0101\n",
            "Epoch 234/250\n",
            "22/22 [==============================] - 0s 1ms/step - loss: 24.2137\n",
            "Epoch 235/250\n",
            "22/22 [==============================] - 0s 1ms/step - loss: 24.0439\n",
            "Epoch 236/250\n",
            "22/22 [==============================] - 0s 1ms/step - loss: 24.0199\n",
            "Epoch 237/250\n",
            "22/22 [==============================] - 0s 2ms/step - loss: 24.0887\n",
            "Epoch 238/250\n",
            "22/22 [==============================] - 0s 2ms/step - loss: 24.2997\n",
            "Epoch 239/250\n",
            "22/22 [==============================] - 0s 2ms/step - loss: 23.8455\n",
            "Epoch 240/250\n",
            "22/22 [==============================] - 0s 2ms/step - loss: 24.4144\n",
            "Epoch 241/250\n",
            "22/22 [==============================] - 0s 2ms/step - loss: 24.1500\n",
            "Epoch 242/250\n",
            "22/22 [==============================] - 0s 2ms/step - loss: 24.1322\n",
            "Epoch 243/250\n",
            "22/22 [==============================] - 0s 1ms/step - loss: 24.3380\n",
            "Epoch 244/250\n",
            "22/22 [==============================] - 0s 1ms/step - loss: 23.9628\n",
            "Epoch 245/250\n",
            "22/22 [==============================] - 0s 1ms/step - loss: 23.8577\n",
            "Epoch 246/250\n",
            "22/22 [==============================] - 0s 2ms/step - loss: 24.0426\n",
            "Epoch 247/250\n",
            "22/22 [==============================] - 0s 2ms/step - loss: 24.2525\n",
            "Epoch 248/250\n",
            "22/22 [==============================] - 0s 2ms/step - loss: 24.0207\n",
            "Epoch 249/250\n",
            "22/22 [==============================] - 0s 1ms/step - loss: 24.0982\n",
            "Epoch 250/250\n",
            "22/22 [==============================] - 0s 1ms/step - loss: 23.8623\n"
          ],
          "name": "stdout"
        },
        {
          "output_type": "execute_result",
          "data": {
            "text/plain": [
              "<tensorflow.python.keras.callbacks.History at 0x7fd14fb8af10>"
            ]
          },
          "metadata": {
            "tags": []
          },
          "execution_count": 40
        }
      ]
    },
    {
      "cell_type": "code",
      "metadata": {
        "id": "Xvyk5vextb-J"
      },
      "source": [
        "loss_df = pd.DataFrame(model.history.history)"
      ],
      "execution_count": null,
      "outputs": []
    },
    {
      "cell_type": "code",
      "metadata": {
        "colab": {
          "base_uri": "https://localhost:8080/",
          "height": 282
        },
        "id": "pPmxBENottPA",
        "outputId": "58545300-7d05-4c2a-a44d-45cfb3e22f76"
      },
      "source": [
        "loss_df.plot()"
      ],
      "execution_count": null,
      "outputs": [
        {
          "output_type": "execute_result",
          "data": {
            "text/plain": [
              "<matplotlib.axes._subplots.AxesSubplot at 0x7fd1555a6890>"
            ]
          },
          "metadata": {
            "tags": []
          },
          "execution_count": 42
        },
        {
          "output_type": "display_data",
          "data": {
            "image/png": "[encoded data removed]",
            "text/plain": [
              "<Figure size 432x288 with 1 Axes>"
            ]
          },
          "metadata": {
            "tags": [],
            "needs_background": "light"
          }
        }
      ]
    },
    {
      "cell_type": "code",
      "metadata": {
        "colab": {
          "base_uri": "https://localhost:8080/"
        },
        "id": "3VBjRKd1t0TQ",
        "outputId": "f8b462ac-a0d0-4c90-94f6-b2046d4132c4"
      },
      "source": [
        "model.evaluate(X_test,y_test,verbose=0) # returns model's loss the data it didn't see before"
      ],
      "execution_count": null,
      "outputs": [
        {
          "output_type": "execute_result",
          "data": {
            "text/plain": [
              "25.360742568969727"
            ]
          },
          "metadata": {
            "tags": []
          },
          "execution_count": 43
        }
      ]
    },
    {
      "cell_type": "code",
      "metadata": {
        "colab": {
          "base_uri": "https://localhost:8080/"
        },
        "id": "jDm76hAt_L_K",
        "outputId": "9fb55371-b0b4-4476-ee77-83c2e9d30143"
      },
      "source": [
        "model.evaluate(X_train,y_train,verbose=0)"
      ],
      "execution_count": null,
      "outputs": [
        {
          "output_type": "execute_result",
          "data": {
            "text/plain": [
              "23.768287658691406"
            ]
          },
          "metadata": {
            "tags": []
          },
          "execution_count": 44
        }
      ]
    },
    {
      "cell_type": "code",
      "metadata": {
        "id": "_BultB-C_WHw"
      },
      "source": [
        "test_pred = model.predict(X_test)"
      ],
      "execution_count": null,
      "outputs": []
    },
    {
      "cell_type": "code",
      "metadata": {
        "id": "aL5naLUt_jsw"
      },
      "source": [
        "# test_pred"
      ],
      "execution_count": null,
      "outputs": []
    },
    {
      "cell_type": "code",
      "metadata": {
        "colab": {
          "base_uri": "https://localhost:8080/"
        },
        "id": "wDa7hAKL_lHY",
        "outputId": "3e411e72-c6fd-434d-e10e-725ab603473c"
      },
      "source": [
        "test_pred = pd.Series(test_pred.reshape(300,))\n",
        "test_pred  "
      ],
      "execution_count": null,
      "outputs": [
        {
          "output_type": "execute_result",
          "data": {
            "text/plain": [
              "0      405.673248\n",
              "1      624.228882\n",
              "2      592.780396\n",
              "3      572.835754\n",
              "4      366.931030\n",
              "          ...    \n",
              "295    529.595215\n",
              "296    515.844727\n",
              "297    610.323181\n",
              "298    417.361938\n",
              "299    411.261414\n",
              "Length: 300, dtype: float32"
            ]
          },
          "metadata": {
            "tags": []
          },
          "execution_count": 48
        }
      ]
    },
    {
      "cell_type": "code",
      "metadata": {
        "id": "cvfkRljW_1nQ"
      },
      "source": [
        "pred_df = pd.DataFrame(y_test,columns=['Test True Y'])"
      ],
      "execution_count": null,
      "outputs": []
    },
    {
      "cell_type": "code",
      "metadata": {
        "colab": {
          "base_uri": "https://localhost:8080/",
          "height": 402
        },
        "id": "Cumn4p9u_9Zo",
        "outputId": "a6539e5d-c934-4519-f27b-366245990316"
      },
      "source": [
        "pred_df"
      ],
      "execution_count": null,
      "outputs": [
        {
          "output_type": "execute_result",
          "data": {
            "text/html": [
              "<div>\n",
              "<style scoped>\n",
              "    .dataframe tbody tr th:only-of-type {\n",
              "        vertical-align: middle;\n",
              "    }\n",
              "\n",
              "    .dataframe tbody tr th {\n",
              "        vertical-align: top;\n",
              "    }\n",
              "\n",
              "    .dataframe thead th {\n",
              "        text-align: right;\n",
              "    }\n",
              "</style>\n",
              "<table border=\"1\" class=\"dataframe\">\n",
              "  <thead>\n",
              "    <tr style=\"text-align: right;\">\n",
              "      <th></th>\n",
              "      <th>Test True Y</th>\n",
              "    </tr>\n",
              "  </thead>\n",
              "  <tbody>\n",
              "    <tr>\n",
              "      <th>0</th>\n",
              "      <td>402.296319</td>\n",
              "    </tr>\n",
              "    <tr>\n",
              "      <th>1</th>\n",
              "      <td>624.156198</td>\n",
              "    </tr>\n",
              "    <tr>\n",
              "      <th>2</th>\n",
              "      <td>582.455066</td>\n",
              "    </tr>\n",
              "    <tr>\n",
              "      <th>3</th>\n",
              "      <td>578.588606</td>\n",
              "    </tr>\n",
              "    <tr>\n",
              "      <th>4</th>\n",
              "      <td>371.224104</td>\n",
              "    </tr>\n",
              "    <tr>\n",
              "      <th>...</th>\n",
              "      <td>...</td>\n",
              "    </tr>\n",
              "    <tr>\n",
              "      <th>295</th>\n",
              "      <td>525.704657</td>\n",
              "    </tr>\n",
              "    <tr>\n",
              "      <th>296</th>\n",
              "      <td>502.909473</td>\n",
              "    </tr>\n",
              "    <tr>\n",
              "      <th>297</th>\n",
              "      <td>612.727910</td>\n",
              "    </tr>\n",
              "    <tr>\n",
              "      <th>298</th>\n",
              "      <td>417.569725</td>\n",
              "    </tr>\n",
              "    <tr>\n",
              "      <th>299</th>\n",
              "      <td>410.538250</td>\n",
              "    </tr>\n",
              "  </tbody>\n",
              "</table>\n",
              "<p>300 rows × 1 columns</p>\n",
              "</div>"
            ],
            "text/plain": [
              "     Test True Y\n",
              "0     402.296319\n",
              "1     624.156198\n",
              "2     582.455066\n",
              "3     578.588606\n",
              "4     371.224104\n",
              "..           ...\n",
              "295   525.704657\n",
              "296   502.909473\n",
              "297   612.727910\n",
              "298   417.569725\n",
              "299   410.538250\n",
              "\n",
              "[300 rows x 1 columns]"
            ]
          },
          "metadata": {
            "tags": []
          },
          "execution_count": 50
        }
      ]
    },
    {
      "cell_type": "code",
      "metadata": {
        "colab": {
          "base_uri": "https://localhost:8080/",
          "height": 195
        },
        "id": "rC0J9TFM_-bx",
        "outputId": "e19ce52b-400d-4690-bba7-d6a731d547b3"
      },
      "source": [
        "pred_df = pd.concat([pred_df,test_pred],axis=1)\n",
        "pred_df.head()"
      ],
      "execution_count": null,
      "outputs": [
        {
          "output_type": "execute_result",
          "data": {
            "text/html": [
              "<div>\n",
              "<style scoped>\n",
              "    .dataframe tbody tr th:only-of-type {\n",
              "        vertical-align: middle;\n",
              "    }\n",
              "\n",
              "    .dataframe tbody tr th {\n",
              "        vertical-align: top;\n",
              "    }\n",
              "\n",
              "    .dataframe thead th {\n",
              "        text-align: right;\n",
              "    }\n",
              "</style>\n",
              "<table border=\"1\" class=\"dataframe\">\n",
              "  <thead>\n",
              "    <tr style=\"text-align: right;\">\n",
              "      <th></th>\n",
              "      <th>Test True Y</th>\n",
              "      <th>0</th>\n",
              "    </tr>\n",
              "  </thead>\n",
              "  <tbody>\n",
              "    <tr>\n",
              "      <th>0</th>\n",
              "      <td>402.296319</td>\n",
              "      <td>405.673248</td>\n",
              "    </tr>\n",
              "    <tr>\n",
              "      <th>1</th>\n",
              "      <td>624.156198</td>\n",
              "      <td>624.228882</td>\n",
              "    </tr>\n",
              "    <tr>\n",
              "      <th>2</th>\n",
              "      <td>582.455066</td>\n",
              "      <td>592.780396</td>\n",
              "    </tr>\n",
              "    <tr>\n",
              "      <th>3</th>\n",
              "      <td>578.588606</td>\n",
              "      <td>572.835754</td>\n",
              "    </tr>\n",
              "    <tr>\n",
              "      <th>4</th>\n",
              "      <td>371.224104</td>\n",
              "      <td>366.931030</td>\n",
              "    </tr>\n",
              "  </tbody>\n",
              "</table>\n",
              "</div>"
            ],
            "text/plain": [
              "   Test True Y           0\n",
              "0   402.296319  405.673248\n",
              "1   624.156198  624.228882\n",
              "2   582.455066  592.780396\n",
              "3   578.588606  572.835754\n",
              "4   371.224104  366.931030"
            ]
          },
          "metadata": {
            "tags": []
          },
          "execution_count": 51
        }
      ]
    },
    {
      "cell_type": "code",
      "metadata": {
        "id": "tuH_TVKJAFx4"
      },
      "source": [
        "pred_df.columns = ['Test True Y','Model Predictions']"
      ],
      "execution_count": null,
      "outputs": []
    },
    {
      "cell_type": "code",
      "metadata": {
        "colab": {
          "base_uri": "https://localhost:8080/",
          "height": 195
        },
        "id": "DjoGdP5tANLA",
        "outputId": "7d05ec57-6958-4a76-cca9-91f8eb3c7813"
      },
      "source": [
        "pred_df.head()"
      ],
      "execution_count": null,
      "outputs": [
        {
          "output_type": "execute_result",
          "data": {
            "text/html": [
              "<div>\n",
              "<style scoped>\n",
              "    .dataframe tbody tr th:only-of-type {\n",
              "        vertical-align: middle;\n",
              "    }\n",
              "\n",
              "    .dataframe tbody tr th {\n",
              "        vertical-align: top;\n",
              "    }\n",
              "\n",
              "    .dataframe thead th {\n",
              "        text-align: right;\n",
              "    }\n",
              "</style>\n",
              "<table border=\"1\" class=\"dataframe\">\n",
              "  <thead>\n",
              "    <tr style=\"text-align: right;\">\n",
              "      <th></th>\n",
              "      <th>Test True Y</th>\n",
              "      <th>Model Predictions</th>\n",
              "    </tr>\n",
              "  </thead>\n",
              "  <tbody>\n",
              "    <tr>\n",
              "      <th>0</th>\n",
              "      <td>402.296319</td>\n",
              "      <td>405.673248</td>\n",
              "    </tr>\n",
              "    <tr>\n",
              "      <th>1</th>\n",
              "      <td>624.156198</td>\n",
              "      <td>624.228882</td>\n",
              "    </tr>\n",
              "    <tr>\n",
              "      <th>2</th>\n",
              "      <td>582.455066</td>\n",
              "      <td>592.780396</td>\n",
              "    </tr>\n",
              "    <tr>\n",
              "      <th>3</th>\n",
              "      <td>578.588606</td>\n",
              "      <td>572.835754</td>\n",
              "    </tr>\n",
              "    <tr>\n",
              "      <th>4</th>\n",
              "      <td>371.224104</td>\n",
              "      <td>366.931030</td>\n",
              "    </tr>\n",
              "  </tbody>\n",
              "</table>\n",
              "</div>"
            ],
            "text/plain": [
              "   Test True Y  Model Predictions\n",
              "0   402.296319         405.673248\n",
              "1   624.156198         624.228882\n",
              "2   582.455066         592.780396\n",
              "3   578.588606         572.835754\n",
              "4   371.224104         366.931030"
            ]
          },
          "metadata": {
            "tags": []
          },
          "execution_count": 53
        }
      ]
    },
    {
      "cell_type": "code",
      "metadata": {
        "colab": {
          "base_uri": "https://localhost:8080/",
          "height": 296
        },
        "id": "Ob5lWAriAOlo",
        "outputId": "69dab48f-5549-4157-8259-f7f94af19dbb"
      },
      "source": [
        "sns.scatterplot(x='Test True Y',y='Model Predictions',data=pred_df)"
      ],
      "execution_count": null,
      "outputs": [
        {
          "output_type": "execute_result",
          "data": {
            "text/plain": [
              "<matplotlib.axes._subplots.AxesSubplot at 0x7fd14dce6d90>"
            ]
          },
          "metadata": {
            "tags": []
          },
          "execution_count": 54
        },
        {
          "output_type": "display_data",
          "data": {
            "image/png": "[encoded data removed]",
            "text/plain": [
              "<Figure size 432x288 with 1 Axes>"
            ]
          },
          "metadata": {
            "tags": [],
            "needs_background": "light"
          }
        }
      ]
    },
    {
      "cell_type": "code",
      "metadata": {
        "id": "DxWum6AdAZLQ"
      },
      "source": [
        "from sklearn.metrics import mean_absolute_error,mean_squared_error"
      ],
      "execution_count": null,
      "outputs": []
    },
    {
      "cell_type": "code",
      "metadata": {
        "colab": {
          "base_uri": "https://localhost:8080/"
        },
        "id": "iOg-hEZdAsfQ",
        "outputId": "4e3d0685-b0ce-464e-87c6-016504e088e0"
      },
      "source": [
        "mean_absolute_error(pred_df['Test True Y'],pred_df['Model Predictions'])"
      ],
      "execution_count": null,
      "outputs": [
        {
          "output_type": "execute_result",
          "data": {
            "text/plain": [
              "4.051055066761746"
            ]
          },
          "metadata": {
            "tags": []
          },
          "execution_count": 57
        }
      ]
    },
    {
      "cell_type": "code",
      "metadata": {
        "colab": {
          "base_uri": "https://localhost:8080/"
        },
        "id": "iKZUVLUXA4nB",
        "outputId": "ba84c05a-76d3-4360-ed31-6d532da95d78"
      },
      "source": [
        "mean_squared_error(pred_df['Test True Y'],pred_df['Model Predictions']) # same as model.evaluate(X_train,y_train,verbose=0) since our model was mse"
      ],
      "execution_count": null,
      "outputs": [
        {
          "output_type": "execute_result",
          "data": {
            "text/plain": [
              "25.360747193558165"
            ]
          },
          "metadata": {
            "tags": []
          },
          "execution_count": 58
        }
      ]
    },
    {
      "cell_type": "code",
      "metadata": {
        "colab": {
          "base_uri": "https://localhost:8080/"
        },
        "id": "qBAzXN54C-fg",
        "outputId": "67cc4857-330c-46b7-de65-0b3ca3df1c12"
      },
      "source": [
        "mean_squared_error(pred_df['Test True Y'],pred_df['Model Predictions']) ** 0.5 # Root MSE"
      ],
      "execution_count": null,
      "outputs": [
        {
          "output_type": "execute_result",
          "data": {
            "text/plain": [
              "5.035945511377001"
            ]
          },
          "metadata": {
            "tags": []
          },
          "execution_count": 59
        }
      ]
    },
    {
      "cell_type": "code",
      "metadata": {
        "id": "x_jFERojDWsZ"
      },
      "source": [
        "new_gem = [[998,1000]]\n",
        "new_gem = scaler.transform(new_gem)"
      ],
      "execution_count": null,
      "outputs": []
    },
    {
      "cell_type": "code",
      "metadata": {
        "colab": {
          "base_uri": "https://localhost:8080/"
        },
        "id": "0VOgGzjYDrlK",
        "outputId": "b86a8f34-55a2-4de7-8c6a-9d794853f821"
      },
      "source": [
        "model.predict(new_gem)"
      ],
      "execution_count": null,
      "outputs": [
        {
          "output_type": "execute_result",
          "data": {
            "text/plain": [
              "array([[420.07645]], dtype=float32)"
            ]
          },
          "metadata": {
            "tags": []
          },
          "execution_count": 61
        }
      ]
    },
    {
      "cell_type": "code",
      "metadata": {
        "id": "cCiB-MU9Dtbo"
      },
      "source": [
        "from tensorflow.keras.models import load_model"
      ],
      "execution_count": null,
      "outputs": []
    },
    {
      "cell_type": "code",
      "metadata": {
        "colab": {
          "base_uri": "https://localhost:8080/"
        },
        "id": "8PwKMRrKD_96",
        "outputId": "b810b41c-94bc-4897-bead-2e9a5169a161"
      },
      "source": [
        "model.save('my_gem_model.t1')"
      ],
      "execution_count": null,
      "outputs": [
        {
          "output_type": "stream",
          "text": [
            "INFO:tensorflow:Assets written to: my_gem_model.t1/assets\n"
          ],
          "name": "stdout"
        }
      ]
    },
    {
      "cell_type": "code",
      "metadata": {
        "id": "17za22thEGcx"
      },
      "source": [
        "later_model = load_model('my_gem_model.t1')"
      ],
      "execution_count": null,
      "outputs": []
    },
    {
      "cell_type": "code",
      "metadata": {
        "colab": {
          "base_uri": "https://localhost:8080/"
        },
        "id": "oZvrlgorEL1Z",
        "outputId": "b11c5106-3e7b-4f8b-99f2-7475f77ce3c3"
      },
      "source": [
        "later_model.predict(new_gem)"
      ],
      "execution_count": null,
      "outputs": [
        {
          "output_type": "execute_result",
          "data": {
            "text/plain": [
              "array([[420.07645]], dtype=float32)"
            ]
          },
          "metadata": {
            "tags": []
          },
          "execution_count": 65
        }
      ]
    }
  ]
}